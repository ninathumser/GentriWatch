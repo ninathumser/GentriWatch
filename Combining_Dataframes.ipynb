{
 "cells": [
  {
   "cell_type": "code",
   "execution_count": 1,
   "metadata": {},
   "outputs": [],
   "source": [
    "import re\n",
    "import joblib\n",
    "import numpy as np\n",
    "import pandas as pd\n",
    "from tqdm import tqdm"
   ]
  },
  {
   "cell_type": "code",
   "execution_count": 2,
   "metadata": {},
   "outputs": [],
   "source": [
    "import plotly.express as px\n",
    "import plotly.graph_objects as go"
   ]
  },
  {
   "cell_type": "markdown",
   "metadata": {},
   "source": [
    "### Importing dataframes"
   ]
  },
  {
   "cell_type": "code",
   "execution_count": 3,
   "metadata": {},
   "outputs": [],
   "source": [
    "from gentrification import load_dataframes\n",
    "\n",
    "dataframes = load_dataframes()"
   ]
  },
  {
   "cell_type": "code",
   "execution_count": 4,
   "metadata": {},
   "outputs": [],
   "source": [
    "age = dataframes['final_age']\n",
    "rent = dataframes['final_rent']\n",
    "area = dataframes['final_area']\n",
    "migr = dataframes['final_migr']"
   ]
  },
  {
   "cell_type": "markdown",
   "metadata": {},
   "source": [
    "### Data exploration"
   ]
  },
  {
   "cell_type": "code",
   "execution_count": 5,
   "metadata": {},
   "outputs": [
    {
     "name": "stdout",
     "output_type": "stream",
     "text": [
      "121030\n",
      "123020\n"
     ]
    }
   ],
   "source": [
    "for i in age.LOR.unique():\n",
    "    if i not in migr.LOR.unique():\n",
    "        print(i)"
   ]
  },
  {
   "cell_type": "code",
   "execution_count": 6,
   "metadata": {},
   "outputs": [
    {
     "data": {
      "text/html": [
       "<div>\n",
       "<style scoped>\n",
       "    .dataframe tbody tr th:only-of-type {\n",
       "        vertical-align: middle;\n",
       "    }\n",
       "\n",
       "    .dataframe tbody tr th {\n",
       "        vertical-align: top;\n",
       "    }\n",
       "\n",
       "    .dataframe thead th {\n",
       "        text-align: right;\n",
       "    }\n",
       "</style>\n",
       "<table border=\"1\" class=\"dataframe\">\n",
       "  <thead>\n",
       "    <tr style=\"text-align: right;\">\n",
       "      <th></th>\n",
       "      <th>Bezirk</th>\n",
       "      <th>Bezirksregion</th>\n",
       "      <th>LOR</th>\n",
       "      <th>Bezirksname</th>\n",
       "      <th>year</th>\n",
       "      <th>total</th>\n",
       "      <th>below_6</th>\n",
       "      <th>6-15</th>\n",
       "      <th>15-18</th>\n",
       "      <th>18-27</th>\n",
       "      <th>27-45</th>\n",
       "      <th>45-55</th>\n",
       "      <th>55-65</th>\n",
       "      <th>65_above</th>\n",
       "    </tr>\n",
       "  </thead>\n",
       "  <tbody>\n",
       "    <tr>\n",
       "      <th>128</th>\n",
       "      <td>12</td>\n",
       "      <td>1030</td>\n",
       "      <td>121030</td>\n",
       "      <td>NaN</td>\n",
       "      <td>2007</td>\n",
       "      <td>48661</td>\n",
       "      <td>2371</td>\n",
       "      <td>3533</td>\n",
       "      <td>1295</td>\n",
       "      <td>4155</td>\n",
       "      <td>13964</td>\n",
       "      <td>7064</td>\n",
       "      <td>5807</td>\n",
       "      <td>10472</td>\n",
       "    </tr>\n",
       "    <tr>\n",
       "      <th>263</th>\n",
       "      <td>12</td>\n",
       "      <td>1030</td>\n",
       "      <td>121030</td>\n",
       "      <td>NaN</td>\n",
       "      <td>2008</td>\n",
       "      <td>48892</td>\n",
       "      <td>2482</td>\n",
       "      <td>3457</td>\n",
       "      <td>1247</td>\n",
       "      <td>4244</td>\n",
       "      <td>13826</td>\n",
       "      <td>7283</td>\n",
       "      <td>5773</td>\n",
       "      <td>10580</td>\n",
       "    </tr>\n",
       "  </tbody>\n",
       "</table>\n",
       "</div>"
      ],
      "text/plain": [
       "    Bezirk Bezirksregion     LOR Bezirksname  year  total  below_6  6-15  \\\n",
       "128     12          1030  121030         NaN  2007  48661     2371  3533   \n",
       "263     12          1030  121030         NaN  2008  48892     2482  3457   \n",
       "\n",
       "     15-18  18-27  27-45  45-55  55-65  65_above  \n",
       "128   1295   4155  13964   7064   5807     10472  \n",
       "263   1247   4244  13826   7283   5773     10580  "
      ]
     },
     "execution_count": 6,
     "metadata": {},
     "output_type": "execute_result"
    }
   ],
   "source": [
    "age[age.LOR=='121030']"
   ]
  },
  {
   "cell_type": "code",
   "execution_count": 7,
   "metadata": {},
   "outputs": [
    {
     "data": {
      "text/html": [
       "<div>\n",
       "<style scoped>\n",
       "    .dataframe tbody tr th:only-of-type {\n",
       "        vertical-align: middle;\n",
       "    }\n",
       "\n",
       "    .dataframe tbody tr th {\n",
       "        vertical-align: top;\n",
       "    }\n",
       "\n",
       "    .dataframe thead th {\n",
       "        text-align: right;\n",
       "    }\n",
       "</style>\n",
       "<table border=\"1\" class=\"dataframe\">\n",
       "  <thead>\n",
       "    <tr style=\"text-align: right;\">\n",
       "      <th></th>\n",
       "      <th>Bezirk</th>\n",
       "      <th>Bezirksregion</th>\n",
       "      <th>LOR</th>\n",
       "      <th>Bezirksname</th>\n",
       "      <th>year</th>\n",
       "      <th>total</th>\n",
       "      <th>below_6</th>\n",
       "      <th>6-15</th>\n",
       "      <th>15-18</th>\n",
       "      <th>18-27</th>\n",
       "      <th>27-45</th>\n",
       "      <th>45-55</th>\n",
       "      <th>55-65</th>\n",
       "      <th>65_above</th>\n",
       "    </tr>\n",
       "  </thead>\n",
       "  <tbody>\n",
       "    <tr>\n",
       "      <th>133</th>\n",
       "      <td>12</td>\n",
       "      <td>3020</td>\n",
       "      <td>123020</td>\n",
       "      <td>NaN</td>\n",
       "      <td>2007</td>\n",
       "      <td>43909</td>\n",
       "      <td>2687</td>\n",
       "      <td>4549</td>\n",
       "      <td>1670</td>\n",
       "      <td>3534</td>\n",
       "      <td>10175</td>\n",
       "      <td>5735</td>\n",
       "      <td>6000</td>\n",
       "      <td>9559</td>\n",
       "    </tr>\n",
       "    <tr>\n",
       "      <th>268</th>\n",
       "      <td>12</td>\n",
       "      <td>3020</td>\n",
       "      <td>123020</td>\n",
       "      <td>NaN</td>\n",
       "      <td>2008</td>\n",
       "      <td>43109</td>\n",
       "      <td>2711</td>\n",
       "      <td>4572</td>\n",
       "      <td>1558</td>\n",
       "      <td>3502</td>\n",
       "      <td>9759</td>\n",
       "      <td>5673</td>\n",
       "      <td>5637</td>\n",
       "      <td>9697</td>\n",
       "    </tr>\n",
       "  </tbody>\n",
       "</table>\n",
       "</div>"
      ],
      "text/plain": [
       "    Bezirk Bezirksregion     LOR Bezirksname  year  total  below_6  6-15  \\\n",
       "133     12          3020  123020         NaN  2007  43909     2687  4549   \n",
       "268     12          3020  123020         NaN  2008  43109     2711  4572   \n",
       "\n",
       "     15-18  18-27  27-45  45-55  55-65  65_above  \n",
       "133   1670   3534  10175   5735   6000      9559  \n",
       "268   1558   3502   9759   5673   5637      9697  "
      ]
     },
     "execution_count": 7,
     "metadata": {},
     "output_type": "execute_result"
    }
   ],
   "source": [
    "age[age.LOR=='123020']"
   ]
  },
  {
   "cell_type": "code",
   "execution_count": 8,
   "metadata": {},
   "outputs": [
    {
     "name": "stdout",
     "output_type": "stream",
     "text": [
      "(1529, 14)\n",
      "(1529, 30)\n"
     ]
    }
   ],
   "source": [
    "# excluding years 2007 and 2008 for age and migr due to incomplete and inconsistent data\n",
    "\n",
    "print(age[age['year']>=2009].shape)\n",
    "print(migr[migr['year']>=2009].shape)"
   ]
  },
  {
   "cell_type": "code",
   "execution_count": 9,
   "metadata": {},
   "outputs": [],
   "source": [
    "age = age[age['year']>=2009].copy()\n",
    "#migr = migr[migr['year']>=2015].copy()\n",
    "migr = migr[migr['year']>=2009].copy()"
   ]
  },
  {
   "cell_type": "markdown",
   "metadata": {},
   "source": [
    "### Merging dataframes"
   ]
  },
  {
   "cell_type": "code",
   "execution_count": 10,
   "metadata": {},
   "outputs": [],
   "source": [
    "df = age.merge(migr, on=['LOR', 'year', 'Bezirk'], how='outer')\\\n",
    "        .merge(rent, on=['LOR', 'year'])\\\n",
    "        .merge(area, on='LOR')"
   ]
  },
  {
   "cell_type": "code",
   "execution_count": 11,
   "metadata": {},
   "outputs": [],
   "source": [
    "for col in ['lon', 'lat']:\n",
    "    df.drop(col, axis=1, inplace=True)"
   ]
  },
  {
   "cell_type": "markdown",
   "metadata": {},
   "source": [
    "### Distributing foreigner numbers according to population of LOR in comparison to Bezirk for years 2009-2014"
   ]
  },
  {
   "cell_type": "code",
   "execution_count": 12,
   "metadata": {},
   "outputs": [],
   "source": [
    "df['total_Bezirk'] = df.groupby(['Bezirk', 'year'])['total'].transform(sum)"
   ]
  },
  {
   "cell_type": "code",
   "execution_count": 13,
   "metadata": {},
   "outputs": [],
   "source": [
    "df['perc_Bezirk_total'] = df['total'] / df['total_Bezirk']"
   ]
  },
  {
   "cell_type": "code",
   "execution_count": 14,
   "metadata": {},
   "outputs": [],
   "source": [
    "cols = ['total_foreigners', 'EU', 'FRA', 'GRC', 'ITA', 'AUT', 'ESP',\n",
    "        'UK', 'POL', 'BGR', 'ROU', 'HRV', 'former_JUGO', 'BIH', 'SRB',\n",
    "        'former_UDSSR', 'RUS', 'UKR', 'KAZ', 'Islamic_countries', 'TUR', 'IRN',\n",
    "        'LBN', 'SYR', 'VNM', 'USA', 'not_identified']\n",
    "\n",
    "mask_years = df['year']<=2014\n",
    "\n",
    "for col in cols:\n",
    "    df.groupby(['Bezirk', 'year'])[col].transform(sum)\n",
    "    df.loc[mask_years, '_'.join([col, 'new'])] = df['perc_Bezirk_total'] * df[col]\n",
    "    df.loc[~mask_years, '_'.join([col, 'new'])] = df[col]\n",
    "    df.drop(col, axis=1, inplace=True)"
   ]
  },
  {
   "cell_type": "code",
   "execution_count": 15,
   "metadata": {},
   "outputs": [],
   "source": [
    "cols_new = ['_'.join([c, 'new']) for c in cols]\n",
    "\n",
    "df.columns = ['Bezirk', 'Bezirksregion', 'LOR', 'Bezirksname', 'year', 'total',\n",
    "            'below_6', '6-15', '15-18', '18-27', '27-45', '45-55', '55-65',\n",
    "            '65_above', 'PLZ', 'apt_size', 'sqm_price_all', 'rent_cold',\n",
    "            'rent_warm', 'empty', 'net_income', 'rent_cold_fraction', 'rent_warm_fraction',\n",
    "            'sqm_price_lower', 'sqm_price_upper', 'no_offers', 'area', 'area_sqkm',\n",
    "            'living_area', 'leisure_area', 'leisure_part', 'lower_quality',\n",
    "            'average_quality', 'upper_quality', 'urban_style', 'total_Bezirk',\n",
    "            'perc_Bezirk_total'] + cols"
   ]
  },
  {
   "cell_type": "markdown",
   "metadata": {},
   "source": [
    "### Fill cells with NaN values"
   ]
  },
  {
   "cell_type": "code",
   "execution_count": 16,
   "metadata": {},
   "outputs": [
    {
     "data": {
      "text/plain": [
       "Index(['empty', 'no_offers', 'urban_style', 'FRA', 'GRC', 'AUT', 'ESP', 'UK',\n",
       "       'BGR', 'ROU', 'HRV', 'BIH', 'SRB', 'Islamic_countries', 'IRN', 'LBN',\n",
       "       'SYR', 'not_identified'],\n",
       "      dtype='object')"
      ]
     },
     "execution_count": 16,
     "metadata": {},
     "output_type": "execute_result"
    }
   ],
   "source": [
    "df.loc[:, df.isna().any()].columns"
   ]
  },
  {
   "cell_type": "code",
   "execution_count": 17,
   "metadata": {},
   "outputs": [],
   "source": [
    "#fill nan values (SYR): fill with 0\n",
    "df['SYR'].fillna(0, inplace=True)\n",
    "\n",
    "\n",
    "#fill nan values (all but SYR): forward fill with value of following year\n",
    "fill_cols = ['FRA', 'GRC', 'AUT', 'ESP', 'UK', 'BGR', 'ROU','HRV',\n",
    "             'BIH', 'SRB', 'Islamic_countries', 'IRN', 'LBN', 'not_identified',]\n",
    "\n",
    "for col in cols:\n",
    "    for l in df['LOR'].unique():\n",
    "        df.loc[df['LOR']==l, col] = df.loc[df['LOR']==l, col].fillna(method='backfill')"
   ]
  },
  {
   "cell_type": "code",
   "execution_count": 18,
   "metadata": {},
   "outputs": [],
   "source": [
    "#drop columns empty  no_offers due to to many missing years or irrelevance\n",
    "df = df.drop(['empty', 'no_offers'], axis=1)"
   ]
  },
  {
   "cell_type": "code",
   "execution_count": 19,
   "metadata": {},
   "outputs": [
    {
     "data": {
      "text/plain": [
       "Index(['urban_style'], dtype='object')"
      ]
     },
     "execution_count": 19,
     "metadata": {},
     "output_type": "execute_result"
    }
   ],
   "source": [
    "df.loc[:, df.isna().any()].columns"
   ]
  },
  {
   "cell_type": "markdown",
   "metadata": {},
   "source": [
    "### Create columns for remaining population"
   ]
  },
  {
   "cell_type": "code",
   "execution_count": 20,
   "metadata": {},
   "outputs": [],
   "source": [
    "df['DEU'] = df['total'] - df['total_foreigners']\n",
    "df['EU_other'] = df['EU'] - df[['FRA','GRC', 'ITA', 'AUT', 'ESP', 'UK', 'POL', 'BGR', 'ROU', 'HRV']].sum(axis=1)\n",
    "df['JUGO_other'] = df['former_JUGO'] - df[['BIH', 'SRB']].sum(axis=1)\n",
    "df['UDSSR_other'] = df['former_UDSSR'] - df[['RUS', 'UKR', 'KAZ']].sum(axis=1)\n",
    "df['Islamic_other'] = df['Islamic_countries'] - df[['TUR', 'IRN', 'LBN', 'SYR']].sum(axis=1)\n",
    "df['other'] = df['total_foreigners'] - df[['EU', 'former_JUGO', 'former_UDSSR', 'Islamic_countries', 'VNM', 'USA', 'not_identified']].sum(axis=1)"
   ]
  },
  {
   "cell_type": "markdown",
   "metadata": {},
   "source": [
    "### Create age categories"
   ]
  },
  {
   "cell_type": "code",
   "execution_count": 21,
   "metadata": {},
   "outputs": [],
   "source": [
    "df['boomers'] = df['55-65'] + df['65_above']\n",
    "df['gen_x'] = df['45-55']\n",
    "df['millenials'] = df['18-27'] + df['27-45']\n",
    "df['children'] = df['below_6'] + df['6-15'] + df['15-18']"
   ]
  },
  {
   "cell_type": "markdown",
   "metadata": {},
   "source": [
    "### Fix Bezirksnamen"
   ]
  },
  {
   "cell_type": "code",
   "execution_count": 22,
   "metadata": {},
   "outputs": [
    {
     "data": {
      "text/plain": [
       "array(['Ost 1 - Reginhardstraße', 'Ost 1', 'Ost 2 - Alt-Reinickendorf',\n",
       "       'Ost 2', 'West 1 - Tegel-Süd/Flughafensee', 'West 1',\n",
       "       'West 4 - Auguste-Viktoria-Allee', 'West 4',\n",
       "       'West 5 - Tegel/Tegeler Forst', 'West 5',\n",
       "       'West 2 - Heiligensee/Konradshöhe', 'West 2',\n",
       "       'Nord 1 - Frohnau/Hermsdorf', 'Nord 1',\n",
       "       'Nord 2 - Waidmannslust/Wittenau/Lübars', 'Nord 2',\n",
       "       'MV 1 - Märkisches Viertel', 'MV 1 (Märkisches Viertel 1)',\n",
       "       'MV 2 - Rollbergesiedlung', 'MV 2 (Märkisches Viertel 2)',\n",
       "       'West 3 - Borsigwalde/Freie Scholle', 'West 3'], dtype=object)"
      ]
     },
     "execution_count": 22,
     "metadata": {},
     "output_type": "execute_result"
    }
   ],
   "source": [
    "df.loc[df['Bezirk']=='12', 'Bezirksname'].unique()"
   ]
  },
  {
   "cell_type": "code",
   "execution_count": 23,
   "metadata": {},
   "outputs": [],
   "source": [
    "name = {'Ost 1': 'Ost 1 - Reginhardstraße',\n",
    "       'Ost 2': 'Ost 2 - Alt-Reinickendorf',\n",
    "       'West 1': 'West 1 - Tegel-Süd/Flughafensee',\n",
    "       'West 4': 'West 4 - Auguste-Viktoria-Allee', \n",
    "       'West 5': 'West 5 - Tegel/Tegeler Forst',\n",
    "       'West 2': 'West 2 - Heiligensee/Konradshöhe', \n",
    "       'Nord 1': 'Nord 1 - Frohnau/Hermsdorf', \n",
    "       'Nord 2': 'Nord 2 - Waidmannslust/Wittenau/Lübars', \n",
    "       'MV 1 (Märkisches Viertel 1)': 'MV 1 - Märkisches Viertel', \n",
    "       'MV 2 (Märkisches Viertel 2)': 'MV 2 - Rollbergesiedlung', \n",
    "       'West 3': 'West 3 - Borsigwalde/Freie Scholle'}\n",
    "\n",
    "df.replace(name, inplace=True)"
   ]
  },
  {
   "cell_type": "markdown",
   "metadata": {},
   "source": [
    "### Fix Name"
   ]
  },
  {
   "cell_type": "code",
   "execution_count": 24,
   "metadata": {},
   "outputs": [],
   "source": [
    "names = {'00': 'Berlin',\n",
    "        '01': 'Mitte',\n",
    "        '02': 'Friedrichshain-Kreuzberg',\n",
    "        '03': 'Pankow',\n",
    "        '04': 'Charlottenburg-Wilmersdorf',\n",
    "        '05': 'Spandau',\n",
    "        '06': 'Steglitz-Zehlendorf',\n",
    "        '07': 'Tempelhof-Schöneberg',\n",
    "        '08': 'Neukölln',\n",
    "        '09': 'Treptow-Köpenick',\n",
    "        '10': 'Marzahn-Hellersdorf',\n",
    "        '11': 'Lichtenberg',\n",
    "        '12': 'Reinickendorf'}\n",
    "\n",
    "df['Name'] = df['Bezirk'].map(names)"
   ]
  },
  {
   "cell_type": "markdown",
   "metadata": {},
   "source": [
    "### Fix outliers"
   ]
  },
  {
   "cell_type": "markdown",
   "metadata": {},
   "source": [
    "LORs Allende-Viertel, Köpenick Süd and Forst Grunewald show some unusual developments or values."
   ]
  },
  {
   "cell_type": "code",
   "execution_count": 25,
   "metadata": {},
   "outputs": [],
   "source": [
    "fig = px.line(df[df['Bezirksname'].isin(['Allende-Viertel', 'Köpenick Süd', 'Forst Grunewald', 'Grunewald'])],\n",
    "              x='year',\n",
    "              y='total',\n",
    "              hover_name='Bezirksname',\n",
    "              color='Bezirksname',\n",
    "              range_y=(0,24000),\n",
    "              width=900,\n",
    "              height=500)\n",
    "#fig.show()"
   ]
  },
  {
   "cell_type": "markdown",
   "metadata": {},
   "source": [
    "Effective 1.1.2019 specific areas were switched between Köpenick Süd and Allende-Viertel. Forst Grunewald has less than 75 inhabitants.\n",
    "\n",
    "Solution:\n",
    "\n",
    "Combine Köpenick Süd and Allende-Viertel to LOR Allende-Viertel/Köpenick Süd.\n",
    "\n",
    "Combine Forst Grunewald with Grunewald."
   ]
  },
  {
   "cell_type": "code",
   "execution_count": 26,
   "metadata": {},
   "outputs": [],
   "source": [
    "cols_sum = ['total', 'below_6', '6-15', '15-18', '18-27', '27-45', '45-55', '55-65',\n",
    "           '65_above', 'area', 'living_area', 'area_sqkm',\n",
    "           'leisure_area', \n",
    "           'total_foreigners',\n",
    "           'EU', 'FRA', 'GRC', 'ITA', 'AUT', 'ESP', 'UK', 'POL', 'BGR', 'ROU',\n",
    "           'HRV', 'former_JUGO', 'BIH', 'SRB', 'former_UDSSR', 'RUS', 'UKR', 'KAZ',\n",
    "           'Islamic_countries', 'TUR', 'IRN', 'LBN', 'SYR',\n",
    "           'VNM', 'USA', 'not_identified']\n",
    "\n",
    "cols_mean = ['apt_size', 'sqm_price_all', 'rent_cold',\n",
    "             'rent_warm', 'net_income', 'rent_cold_fraction', 'rent_warm_fraction',\n",
    "             'sqm_price_lower', 'sqm_price_upper',\n",
    "             'lower_quality', 'average_quality', 'upper_quality',\n",
    "             'perc_Bezirk_total']\n",
    "        \n",
    "for year in df['year'].unique():\n",
    "    for c1 in cols_sum:\n",
    "        df.loc[(df['Bezirksname']=='Allende-Viertel') & (df['year']==year), c1] = \\\n",
    "            float(df.loc[(df['Bezirksname']=='Allende-Viertel') & (df['year']==year), c1]) \\\n",
    "            + float(df.loc[(df['Bezirksname']=='Köpenick Süd') & (df['year']==year), c1])\n",
    "        \n",
    "        df.loc[(df['Bezirksname']=='Grunewald') & (df['year']==year), c1] = \\\n",
    "            float(df.loc[(df['Bezirksname']=='Grunewald') & (df['year']==year), c1]) \\\n",
    "            + float(df.loc[(df['Bezirksname']=='Forst Grunewald') & (df['year']==year), c1])\n",
    "        \n",
    "    for c2 in cols_mean:\n",
    "        df.loc[(df['Bezirksname']=='Allende-Viertel') & (df['year']==year), c2] = \\\n",
    "            (float(df.loc[(df['Bezirksname']=='Allende-Viertel') & (df['year']==year), c2]) \\\n",
    "            + float(df.loc[(df['Bezirksname']=='Köpenick Süd') & (df['year']==year), c2])) / 2\n",
    "\n",
    "                        \n",
    "df.drop(df[df['Bezirksname']=='Köpenick Süd'].index, axis=0, inplace=True)\n",
    "df.drop(df[df['Bezirksname']=='Forst Grunewald'].index, axis=0, inplace=True)\n",
    "                        \n",
    "df.replace({'Allende-Viertel': 'Allende-Viertel/Köpenick Süd'}, inplace=True)"
   ]
  },
  {
   "cell_type": "code",
   "execution_count": 27,
   "metadata": {},
   "outputs": [],
   "source": [
    "fig = px.line(df[df['Bezirksname'].isin(['Allende-Viertel/Köpenick Süd', 'Grunewald'])],\n",
    "              x='year',\n",
    "              y='total',\n",
    "              hover_name='Bezirksname',\n",
    "              color='Bezirksname',\n",
    "              range_y=(0, 24000),\n",
    "              width=900,\n",
    "              height=500)\n",
    "#fig.show()"
   ]
  },
  {
   "cell_type": "markdown",
   "metadata": {},
   "source": [
    "### Percentages"
   ]
  },
  {
   "cell_type": "code",
   "execution_count": 28,
   "metadata": {},
   "outputs": [],
   "source": [
    "def percentage(df, total_col, col_name):\n",
    "    df['_'.join([col_name, 'perc'])] = df[col_name] / df[total_col]\n",
    "    #df.drop(col_name, axis=1, inplace=True)\n",
    "    return df"
   ]
  },
  {
   "cell_type": "code",
   "execution_count": 29,
   "metadata": {},
   "outputs": [],
   "source": [
    "cols = ['below_6', '6-15', '15-18', '18-27', '27-45', '45-55', '55-65',\n",
    "       '65_above', 'boomers', 'gen_x', 'millenials', 'children']\n",
    "\n",
    "df_perc = df.copy()\n",
    "\n",
    "for col in cols:\n",
    "    percentage(df_perc, 'total', col)"
   ]
  },
  {
   "cell_type": "code",
   "execution_count": 30,
   "metadata": {},
   "outputs": [],
   "source": [
    "cols = ['EU', 'FRA', 'GRC', 'ITA', 'AUT', 'ESP',\n",
    "        'UK', 'POL', 'BGR', 'ROU', 'HRV', 'former_JUGO', 'BIH', 'SRB',\n",
    "        'former_UDSSR', 'RUS', 'UKR', 'KAZ', 'Islamic_countries', 'TUR', 'IRN',\n",
    "        'LBN', 'SYR', 'VNM', 'USA', 'not_identified', 'DEU', 'EU_other',\n",
    "        'JUGO_other', 'UDSSR_other', 'Islamic_other', 'other']\n",
    "\n",
    "for col in cols:\n",
    "    percentage(df_perc, 'total_foreigners', col)"
   ]
  },
  {
   "cell_type": "code",
   "execution_count": 31,
   "metadata": {},
   "outputs": [],
   "source": [
    "df_perc['total_foreigners_perc'] = df_perc['total_foreigners'] / df_perc['total']"
   ]
  },
  {
   "cell_type": "code",
   "execution_count": 32,
   "metadata": {},
   "outputs": [],
   "source": [
    "df_perc['pop_per_sqm'] = df_perc['total'] / df_perc['area_sqkm']"
   ]
  },
  {
   "cell_type": "code",
   "execution_count": 33,
   "metadata": {},
   "outputs": [
    {
     "data": {
      "text/plain": [
       "(1507, 119)"
      ]
     },
     "execution_count": 33,
     "metadata": {},
     "output_type": "execute_result"
    }
   ],
   "source": [
    "df_perc.shape"
   ]
  },
  {
   "cell_type": "code",
   "execution_count": 34,
   "metadata": {},
   "outputs": [
    {
     "data": {
      "text/plain": [
       "['./dataframes/final_all.pkl']"
      ]
     },
     "execution_count": 34,
     "metadata": {},
     "output_type": "execute_result"
    }
   ],
   "source": [
    "joblib.dump(df_perc, './dataframes/final_all.pkl')"
   ]
  },
  {
   "cell_type": "markdown",
   "metadata": {},
   "source": [
    "### Create mapper dictionaries"
   ]
  },
  {
   "cell_type": "code",
   "execution_count": 35,
   "metadata": {},
   "outputs": [],
   "source": [
    "lor_mapper = dict(zip(df_perc.LOR.unique(), df_perc.Bezirksname.unique()))"
   ]
  },
  {
   "cell_type": "code",
   "execution_count": 36,
   "metadata": {},
   "outputs": [],
   "source": [
    "region_mapper = {\n",
    "    'FRA': 'EU',\n",
    "    'GRC': 'EU',\n",
    "    'ITA': 'EU',\n",
    "    'AUT': 'EU',\n",
    "    'ESP': 'EU',\n",
    "    'UK': 'EU',\n",
    "    'POL': 'EU',\n",
    "    'BGR': 'EU',\n",
    "    'ROU': 'EU',\n",
    "    'HRV': 'EU',\n",
    "    'EU_other': 'EU',\n",
    "    'DEU': 'EU',\n",
    "    'BIH': 'former_JUGO',\n",
    "    'SRB': 'former_JUGO',\n",
    "    'JUGO_other': 'former_JUGO',\n",
    "    'RUS': 'former_UDSSR',\n",
    "    'UKR': 'former_UDSSR',\n",
    "    'KAZ': 'former_UDSSR',\n",
    "    'UDSSR_other': 'former_UDSSR',\n",
    "    'TUR': 'Islamic_countries',\n",
    "    'IRN': 'Islamic_countries',\n",
    "    'LBN': 'Islamic_countries',\n",
    "    'SYR': 'Islamic_countries',\n",
    "    'Islamic_other': 'Islamic_countries',\n",
    "    'VNM': 'Other',\n",
    "    'USA': 'Other',\n",
    "    'not_identified': 'Other',\n",
    "    'other': 'Other'\n",
    "}"
   ]
  },
  {
   "cell_type": "code",
   "execution_count": 37,
   "metadata": {},
   "outputs": [],
   "source": [
    "migr_mapper = {\n",
    "    'total': 0,\n",
    "    'migr': 1,\n",
    "    'no_migr': 2,\n",
    "    'EU': 3,\n",
    "    'Islamic_countries': 4,\n",
    "    'Other': 5,\n",
    "    'former_JUGO': 6,\n",
    "    'former_UDSSR': 7,\n",
    "    'AUT': 8,\n",
    "    'BGR': 9,\n",
    "    'DEU': 10,\n",
    "    'ESP': 11,\n",
    "    'EU_other': 12,\n",
    "    'FRA': 13,\n",
    "    'GRC': 14,\n",
    "    'HRV': 15,\n",
    "    'ITA': 16,\n",
    "    'POL': 17,\n",
    "    'ROU': 18,\n",
    "    'UK': 19,\n",
    "    'IRN': 20,\n",
    "    'Islamic_other': 21,\n",
    "    'LBN': 22, \n",
    "    'SYR': 23,\n",
    "    'TUR': 24,\n",
    "    'USA': 25,\n",
    "    'VNM': 26, \n",
    "    'not_identified': 27, \n",
    "    'other': 28, \n",
    "    'BIH': 29,\n",
    "    'JUGO_other': 30,\n",
    "    'SRB': 31, \n",
    "    'KAZ': 32, \n",
    "    'RUS': 33, \n",
    "    'UDSSR_other': 34,\n",
    "    'UKR': 35\n",
    "}"
   ]
  },
  {
   "cell_type": "code",
   "execution_count": 38,
   "metadata": {},
   "outputs": [],
   "source": [
    "age_mapper = {\n",
    "    'below_6': 'Children',\n",
    "    '6-15': 'Children',\n",
    "    '15-18': 'Children',\n",
    "    '18-27': 'Millenials',\n",
    "    '27-45': 'Millenials',\n",
    "    '45-55': 'Generation X',\n",
    "    '55-65': 'Baby<br>Boomers',\n",
    "    '65_above': 'Baby<br>Boomers',\n",
    "    'below_6_perc': 'Children (%)',\n",
    "    '6-15_perc': 'Children (%)',\n",
    "    '15-18_perc': 'Children (%)',\n",
    "    '18-27_perc': 'Millenials (%)',\n",
    "    '27-45_perc': 'Millenials (%)',\n",
    "    '45-55_perc': 'Generation X (%)',\n",
    "    '55-65_perc': 'Baby<br>Boomers (%)',\n",
    "    '65_above_perc': 'Baby<br>Boomers (%)'\n",
    "}"
   ]
  },
  {
   "cell_type": "code",
   "execution_count": 39,
   "metadata": {},
   "outputs": [],
   "source": [
    "features_long = {\n",
    "    'sqm_price_all': 'Square Meter Price (in EUR)',\n",
    "    'total': 'Total Population',\n",
    "    'pop_per_sqm': 'Population per km2',\n",
    "    'area_sqkm': 'Area (in km2)',\n",
    "    'sqm_price_lower': 'Square Meter Price (in EUR) - lower',\n",
    "    'sqm_price_upper': 'Square Meter Price (in EUR) - upper',\n",
    "    'rent_cold': 'Rent cold (in EUR)',\n",
    "    'apt_size': 'Apartment Size (in m2)',\n",
    "    'net_income': 'Household Net Income (in EUR)',\n",
    "    'upper_quality': 'Percentage Upper Quality Housing',\n",
    "    'total_foreigners_perc': 'Percentage Pop. with Migration History',\n",
    "    'leisure_part': 'Percentage Park Area',\n",
    "    'cluster': 'Cluster',\n",
    "    'factor': 'GentriFactor',\n",
    "    \n",
    "    'below_6': '<6',\n",
    "    '6-15': 'Age Bracket 6-15',\n",
    "    '15-18': 'Age Bracket 15-18',\n",
    "    '18-27': 'Age Bracket 18-27',\n",
    "    '27-45': 'Age Bracket 27-45',\n",
    "    '45-55': 'Age Bracket 45-55',\n",
    "    '55-65': 'Age Bracket 55-65',\n",
    "    '65_above': '65+',\n",
    "    'millenials': 'Millenials',\n",
    "    'boomers': 'Baby<br>Boomers',\n",
    "    'gen_x': 'Generation X',\n",
    "    'children': 'Children',\n",
    "    'below_6_perc': 'Percentage Population < 6',\n",
    "    '6-15_perc': 'Percentage Population 6-15',\n",
    "    '15-18_perc': 'Percentage Population 15-18',\n",
    "    '18-27_perc': 'Percentage Population 18-27',\n",
    "    '27-45_perc': 'Percentage Population 27-45',\n",
    "    '45-55_perc': 'Percentage Population 45-55',\n",
    "    '55-65_perc': 'Percentage Population 55-65',\n",
    "    '65_above_perc': 'Percentage Population > 65',\n",
    "    'children_perc': 'Percentage Population < 18',\n",
    "    'millenials_perc': 'Percentage Population Millenials',\n",
    "    'boomers_perc': 'Percentage Population Baby Boomers',\n",
    "    'gen_x_perc': 'Percentage Population Generation X', \n",
    "    \n",
    "    'total': 'Total Population',\n",
    "    'migr': 'with Migration Background',\n",
    "    'no_migr': 'without Migration Background',\n",
    "    'EU': 'EU',\n",
    "    'Islamic_countries': 'Islamic Countries',\n",
    "    'Other': 'Other',\n",
    "    'former_JUGO': 'Former Jugoslavia',\n",
    "    'former_UDSSR': 'Former Soviet Union',\n",
    "    'AUT': 'Austria',\n",
    "    'BGR': 'Bulgaria',\n",
    "    'DEU': 'Germany',\n",
    "    'ESP': 'Spain',\n",
    "    'EU_other': 'Other EU',\n",
    "    'FRA': 'France',\n",
    "    'GRC': 'Greece',\n",
    "    'HRV': 'Croatia',\n",
    "    'ITA': 'Italy',\n",
    "    'POL': 'Poland',\n",
    "    'ROU': 'Romania',\n",
    "    'UK': 'UK',\n",
    "    'IRN': 'Iran',\n",
    "    'Islamic_other': 'Other Islamic Countries',\n",
    "    'LBN': 'Libanon', \n",
    "    'SYR': 'Syria',\n",
    "    'TUR': 'Turkey',\n",
    "    'USA': 'USA',\n",
    "    'VNM': 'Vietnam', \n",
    "    'not_identified': 'unknown', \n",
    "    'other': 'Other', \n",
    "    'BIH': 'Bosnia-Herzegovina',\n",
    "    'JUGO_other': 'Other Former Jugoslavia',\n",
    "    'SRB': 'Serbia', \n",
    "    'KAZ': 'Kazakhstan', \n",
    "    'RUS': 'Russia', \n",
    "    'UDSSR_other': 'Other Former Soviet Union',\n",
    "    'UKR': 'Ukraine'\n",
    "}"
   ]
  },
  {
   "cell_type": "code",
   "execution_count": 40,
   "metadata": {},
   "outputs": [],
   "source": [
    "features_short = {\n",
    "    'Square Meter Price (in EUR)': 'sqm_price_all',\n",
    "    'Total Population': 'total',\n",
    "    'Population per km2': 'pop_per_sqm',\n",
    "    'Area (in km2)': 'area_sqkm',\n",
    "    'Square Meter Price (in EUR) - lower': 'sqm_price_lower',\n",
    "    'Square Meter Price (in EUR) - upper': 'sqm_price_upper',\n",
    "    'Rent cold (in EUR)': 'rent_cold',\n",
    "    'Apartment Size (in m2)': 'apt_size',\n",
    "    'Household Net Income (in EUR)': 'net_income',\n",
    "    'Percentage Upper Quality Housing': 'upper_quality',\n",
    "    'Percentage Pop. with Migration History': 'total_foreigners_perc',\n",
    "    'Percentage Park Area': 'leisure_part',\n",
    "    \n",
    "    '<6': 'below_6',\n",
    "    '65+': '65_above',\n",
    "    \n",
    "    'Age Bracket <6': 'below_6',\n",
    "    'Age Bracket 6-15': '6-15',\n",
    "    'Age Bracket 15-18': '15-18',\n",
    "    'Age Bracket 18-27': '18-27',\n",
    "    'Age Bracket 27-45': '27-45',\n",
    "    'Age Bracket 45-55': '45-55',\n",
    "    'Age Bracket 55-65': '55-65',\n",
    "    'Age Bracket >65': '65_above',\n",
    "    'Percentage Population Millenials': 'millenials',\n",
    "    'Percentage Population Baby Boomers': 'boomers',\n",
    "    'Percentage Population Generation X': 'gen_x',\n",
    "    'Percentage Population < 6': 'below_6_perc',\n",
    "    'Percentage Population 6-15': '6-15_perc',\n",
    "    'Percentage Population 15-18': '15-18_perc',\n",
    "    'Percentage Population 18-27': '18-27_perc',\n",
    "    'Percentage Population 27-45': '27-45_perc',\n",
    "    'Percentage Population 45-55': '45-55_perc',\n",
    "    'Percentage Population 55-65': '55-65_perc',\n",
    "    'Percentage Population > 65': '65_above_perc',\n",
    "    'Percentage Population < 18': 'children_perc',\n",
    "    \n",
    "    'Children': 'children',\n",
    "    'Millenials': 'millenials',\n",
    "    'Baby<br>Boomers': 'boomers',\n",
    "    'Generation X': 'gen_x',\n",
    "    'Children (%)': 'children_perc',\n",
    "    'Millenials (%)': 'millenials_perc',\n",
    "    'Generation X (%)': 'gen_x_perc',\n",
    "    'Baby<br>Boomers (%)': 'boomers_perc',\n",
    "    \n",
    "    '< 6 (%)': 'below_6_perc',\n",
    "    '6-15 (%)': '6-15_perc',\n",
    "    '15-18 (%)': '15-18_perc',\n",
    "    '18-27 (%)': '18-27_perc',\n",
    "    '27-45 (%)': '27-45_perc',\n",
    "    '45-55 (%)': '45-55_perc',\n",
    "    '55-65 (%)': '55-65_perc',\n",
    "    '65+ (%)': '65_above_perc',\n",
    "    \n",
    "    'with Migration Background': 'migr',\n",
    "    'without Migration Background': 'no_migr',\n",
    "    'EU': 'EU',\n",
    "    'Islamic Countries': 'Islamic_countries',\n",
    "    'Other': 'other',\n",
    "    'Former Jugoslavia': 'former_JUGO',\n",
    "    'Former Soviet Union': 'former_UDSSR',\n",
    "    'Austria': 'AUT',\n",
    "    'Bulgaria': 'BGR',\n",
    "    'Germany': 'DEU',\n",
    "    'Spain': 'ESP',\n",
    "    'Other EU': 'EU_other',\n",
    "    'France': 'FRA',\n",
    "    'Greece': 'GRC',\n",
    "    'Croatia': 'HRV',\n",
    "    'Italy': 'ITA',\n",
    "    'Poland': 'POL',\n",
    "    'Romania': 'ROU',\n",
    "    'UK': 'UK',\n",
    "    'Iran': 'IRN',\n",
    "    'Other Islamic Countries': 'Islamic_other',\n",
    "    'Libanon': 'LBN',\n",
    "    'Syria': 'SYR',\n",
    "    'Turkey': 'TUR',\n",
    "    'USA': 'USA',\n",
    "    'Vietnam': 'VNM',\n",
    "    'unknown': 'not_identified',\n",
    "    'Bosnia-Herzegovina': 'BIH',\n",
    "    'Other Former Jugoslavia': 'JUGO_other',\n",
    "    'Serbia': 'SRB',\n",
    "    'Kazakhstan': 'KAZ',\n",
    "    'Russia': 'RUS',\n",
    "    'Other Former Soviet Union': 'UDSSR_other',\n",
    "    'Ukraine': 'UKR',\n",
    "    \n",
    "    'Cluster': 'cluster',\n",
    "    'GentriFactor': 'factor',\n",
    "}"
   ]
  },
  {
   "cell_type": "code",
   "execution_count": 41,
   "metadata": {},
   "outputs": [
    {
     "data": {
      "text/plain": [
       "{}"
      ]
     },
     "execution_count": 41,
     "metadata": {},
     "output_type": "execute_result"
    }
   ],
   "source": [
    "missing = {}\n",
    "for key, value in features_long.items():\n",
    "    if value not in features_short.keys():\n",
    "        missing[value] = key\n",
    "\n",
    "missing"
   ]
  },
  {
   "cell_type": "markdown",
   "metadata": {},
   "source": [
    "### Save dictionaries"
   ]
  },
  {
   "cell_type": "code",
   "execution_count": 42,
   "metadata": {},
   "outputs": [],
   "source": [
    "import json\n",
    "\n",
    "with open('./dataframes/lor_mapper.json', 'w') as f:\n",
    "    json.dump(lor_mapper,f)\n",
    "    \n",
    "with open('./dataframes/region_mapper.json', 'w') as f:\n",
    "    json.dump(region_mapper,f)\n",
    "    \n",
    "with open('./dataframes/migr_mapper.json', 'w') as f:\n",
    "    json.dump(migr_mapper,f)\n",
    "    \n",
    "with open('./dataframes/age_mapper.json', 'w') as f:\n",
    "    json.dump(age_mapper,f)\n",
    "    \n",
    "with open('./dataframes/features_short2long.json', 'w') as f:\n",
    "    json.dump(features_long,f)\n",
    "    \n",
    "with open('./dataframes/features_long2short.json', 'w') as f:\n",
    "    json.dump(features_short,f)"
   ]
  },
  {
   "cell_type": "markdown",
   "metadata": {},
   "source": [
    "### Creating Data Dataframe"
   ]
  },
  {
   "cell_type": "markdown",
   "metadata": {},
   "source": [
    "#### Percentage Change to Prior Year"
   ]
  },
  {
   "cell_type": "code",
   "execution_count": 43,
   "metadata": {},
   "outputs": [
    {
     "name": "stderr",
     "output_type": "stream",
     "text": [
      "100%|██████████| 112/112 [01:06<00:00,  1.68it/s]\n"
     ]
    }
   ],
   "source": [
    "df_data = df_perc.copy()\n",
    "\n",
    "cols = [c for c in df_data.columns if c not in ['Bezirk', 'Bezirksregion', 'LOR', 'Bezirksname', 'year', 'urban_style', 'Name']]\n",
    "\n",
    "for col in tqdm(cols):\n",
    "    for l in df_perc['LOR'].unique():\n",
    "        current_year = df_data.loc[df_perc['LOR']==l, col]\n",
    "        prior_year = df_data.loc[df_perc['LOR']==l, col].shift(1)\n",
    "        df_data.loc[df_data['LOR']==l, f'{col}_cng'] = (current_year - prior_year) / prior_year\n",
    "    #replace inf values with the max of the column\n",
    "    df_data[f'{col}_cng'].replace(np.inf, sorted(df_data[f'{col}_cng'].unique())[-2], inplace=True)"
   ]
  },
  {
   "cell_type": "code",
   "execution_count": 44,
   "metadata": {
    "scrolled": true
   },
   "outputs": [
    {
     "data": {
      "text/plain": [
       "['./dataframes/df_data.csv']"
      ]
     },
     "execution_count": 44,
     "metadata": {},
     "output_type": "execute_result"
    }
   ],
   "source": [
    "joblib.dump(df_data, './dataframes/df_data.csv')"
   ]
  },
  {
   "cell_type": "markdown",
   "metadata": {},
   "source": [
    "### Creating Clustering Dataframes"
   ]
  },
  {
   "cell_type": "code",
   "execution_count": 45,
   "metadata": {},
   "outputs": [],
   "source": [
    "from sklearn.preprocessing import StandardScaler\n",
    "from sklearn.decomposition import PCA"
   ]
  },
  {
   "cell_type": "code",
   "execution_count": 46,
   "metadata": {},
   "outputs": [
    {
     "data": {
      "text/plain": [
       "['./dataframes/df_clustering.csv']"
      ]
     },
     "execution_count": 46,
     "metadata": {},
     "output_type": "execute_result"
    }
   ],
   "source": [
    "clustering_features = ['Bezirksname', 'Name', 'year',\n",
    "                       '65_above_perc', 'lower_quality', 'sqm_price_all', 'net_income',\n",
    "                       'USA_perc', 'DEU_perc', 'EU_perc', 'upper_quality', \n",
    "                       'total_foreigners_perc', '27-45_perc', 'pop_per_sqm']\n",
    "\n",
    "df = df_perc.loc[(df_perc['year']>2009) & (df_perc['Name']!='Berlin'), clustering_features]\n",
    "df.fillna(0, inplace=True)\n",
    "\n",
    "info, features = df.iloc[:, :3], df.iloc[:, 3:]\n",
    "\n",
    "# scaling the dataframe\n",
    "df_scaled = StandardScaler().fit_transform(features)\n",
    "\n",
    "joblib.dump(np.concatenate((info, df_scaled), axis=1), './dataframes/df_clustering.csv')"
   ]
  },
  {
   "cell_type": "code",
   "execution_count": 47,
   "metadata": {},
   "outputs": [
    {
     "data": {
      "text/plain": [
       "['./dataframes/principal_components.csv']"
      ]
     },
     "execution_count": 47,
     "metadata": {},
     "output_type": "execute_result"
    }
   ],
   "source": [
    "pca = PCA(n_components=2, random_state=42)\n",
    "principal_components = pca.fit_transform(df_scaled)\n",
    "\n",
    "joblib.dump(principal_components, './dataframes/principal_components.csv')"
   ]
  },
  {
   "cell_type": "markdown",
   "metadata": {},
   "source": [
    "### GentriFactor"
   ]
  },
  {
   "cell_type": "code",
   "execution_count": 48,
   "metadata": {},
   "outputs": [],
   "source": [
    "df_gentrifactor = pd.DataFrame(data=np.concatenate((info, principal_components), axis=1),\n",
    "                               columns=['Bezirksname', 'Name', 'year', 'pc_1', 'pc_2'])\n",
    "df_gentrifactor[['pc_1', 'pc_2']] = df_gentrifactor[['pc_1', 'pc_2']].astype('float')\n",
    "\n",
    "df_gentrifactor['factor'] = (df_gentrifactor['pc_1']+3).pow(3) + 1/np.cosh(df_gentrifactor['pc_2'])\n",
    "\n",
    "#setting factor to max(factor, 0) for values < 0\n",
    "df_gentrifactor.loc[df_gentrifactor['factor']<0,'factor'] = 0\n",
    "\n",
    "gentri_factor = df_gentrifactor['factor'].to_numpy().reshape(-1,1)"
   ]
  },
  {
   "cell_type": "code",
   "execution_count": 49,
   "metadata": {},
   "outputs": [
    {
     "data": {
      "text/plain": [
       "['./dataframes/gentri_factor.csv']"
      ]
     },
     "execution_count": 49,
     "metadata": {},
     "output_type": "execute_result"
    }
   ],
   "source": [
    "joblib.dump(gentri_factor, './dataframes/gentri_factor.csv')"
   ]
  },
  {
   "cell_type": "code",
   "execution_count": null,
   "metadata": {},
   "outputs": [],
   "source": []
  }
 ],
 "metadata": {
  "kernelspec": {
   "display_name": "Python 3",
   "language": "python",
   "name": "python3"
  },
  "language_info": {
   "codemirror_mode": {
    "name": "ipython",
    "version": 3
   },
   "file_extension": ".py",
   "mimetype": "text/x-python",
   "name": "python",
   "nbconvert_exporter": "python",
   "pygments_lexer": "ipython3",
   "version": "3.6.10"
  }
 },
 "nbformat": 4,
 "nbformat_minor": 4
}
